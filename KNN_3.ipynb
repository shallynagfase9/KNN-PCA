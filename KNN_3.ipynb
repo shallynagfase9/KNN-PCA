{
  "nbformat": 4,
  "nbformat_minor": 0,
  "metadata": {
    "colab": {
      "provenance": [],
      "authorship_tag": "ABX9TyPunDd2vtdsqIQwSWLc955E",
      "include_colab_link": true
    },
    "kernelspec": {
      "name": "python3",
      "display_name": "Python 3"
    },
    "language_info": {
      "name": "python"
    }
  },
  "cells": [
    {
      "cell_type": "markdown",
      "metadata": {
        "id": "view-in-github",
        "colab_type": "text"
      },
      "source": [
        "<a href=\"https://colab.research.google.com/github/shallynagfase9/KNN-PCA/blob/main/KNN_3.ipynb\" target=\"_parent\"><img src=\"https://colab.research.google.com/assets/colab-badge.svg\" alt=\"Open In Colab\"/></a>"
      ]
    },
    {
      "cell_type": "markdown",
      "source": [
        "#Q1. Write a Python code to implement the KNN classifier algorithm on load_iris dataset in sklearn.datasets."
      ],
      "metadata": {
        "id": "V6R_sPyTwmZv"
      }
    },
    {
      "cell_type": "code",
      "source": [
        "# Importing necessary libraries\n",
        "from sklearn.datasets import load_iris\n",
        "from sklearn.model_selection import train_test_split\n",
        "from sklearn.neighbors import KNeighborsClassifier\n",
        "from sklearn.metrics import accuracy_score\n",
        "\n",
        "# Load the iris dataset\n",
        "iris = load_iris()\n",
        "X = iris.data  # Features\n",
        "y = iris.target  # Target variable\n",
        "\n",
        "# Split the data into training and test sets\n",
        "X_train, X_test, y_train, y_test = train_test_split(X, y, test_size=0.2, random_state=42)\n",
        "\n",
        "# Initialize the KNN classifier with k=3 (you can adjust this value)\n",
        "knn = KNeighborsClassifier(n_neighbors=3)\n",
        "\n",
        "# Fit the classifier to the training data\n",
        "knn.fit(X_train, y_train)\n",
        "\n",
        "# Predict on the test data\n",
        "y_pred = knn.predict(X_test)\n",
        "\n",
        "# Calculate accuracy\n",
        "accuracy = accuracy_score(y_test, y_pred)\n",
        "print(f'Accuracy: {accuracy:.2f}')\n"
      ],
      "metadata": {
        "colab": {
          "base_uri": "https://localhost:8080/"
        },
        "id": "qz54N4eswpQW",
        "outputId": "1abc4a54-80bd-480b-dff0-5f4716bca134"
      },
      "execution_count": 1,
      "outputs": [
        {
          "output_type": "stream",
          "name": "stdout",
          "text": [
            "Accuracy: 1.00\n"
          ]
        }
      ]
    },
    {
      "cell_type": "markdown",
      "source": [
        "# Q2. Write a Python code to implement the KNN regressor algorithm on load_boston dataset in sklearn.datasets."
      ],
      "metadata": {
        "id": "LAv3fUS_wpe_"
      }
    },
    {
      "cell_type": "code",
      "source": [
        "\"\"\"\n",
        "# Importing necessary libraries\n",
        "from sklearn.datasets import load_boston\n",
        "from sklearn.model_selection import train_test_split\n",
        "from sklearn.neighbors import KNeighborsRegressor\n",
        "from sklearn.metrics import mean_squared_error, r2_score\n",
        "from sklearn.preprocessing import StandardScaler\n",
        "\n",
        "# Load the Boston housing dataset\n",
        "boston = load_boston()\n",
        "X = boston.data  # Features\n",
        "y = boston.target  # Target variable\n",
        "\n",
        "# Split the data into training and test sets\n",
        "X_train, X_test, y_train, y_test = train_test_split(X, y, test_size=0.2, random_state=42)\n",
        "\n",
        "# Standardize features by removing the mean and scaling to unit variance\n",
        "scaler = StandardScaler()\n",
        "X_train_scaled = scaler.fit_transform(X_train)\n",
        "X_test_scaled = scaler.transform(X_test)\n",
        "\n",
        "# Initialize the KNN regressor with k=5 (you can adjust this value)\n",
        "knn = KNeighborsRegressor(n_neighbors=5)\n",
        "\n",
        "# Fit the regressor to the training data\n",
        "knn.fit(X_train_scaled, y_train)\n",
        "\n",
        "# Predict on the test data\n",
        "y_pred = knn.predict(X_test_scaled)\n",
        "\n",
        "# Calculate metrics (MSE and R^2)\n",
        "mse = mean_squared_error(y_test, y_pred)\n",
        "r2 = r2_score(y_test, y_pred)\n",
        "print(f'Mean Squared Error: {mse:.2f}')\n",
        "print(f'R^2 Score: {r2:.2f}')\n",
        "\n",
        "\n",
        "\"\"\""
      ],
      "metadata": {
        "colab": {
          "base_uri": "https://localhost:8080/",
          "height": 87
        },
        "id": "X9Jhs-P4wsGG",
        "outputId": "cdb439b2-9e45-43ca-9f0d-d67e03586503"
      },
      "execution_count": 3,
      "outputs": [
        {
          "output_type": "execute_result",
          "data": {
            "text/plain": [
              "\"\\n# Importing necessary libraries\\nfrom sklearn.datasets import load_boston\\nfrom sklearn.model_selection import train_test_split\\nfrom sklearn.neighbors import KNeighborsRegressor\\nfrom sklearn.metrics import mean_squared_error, r2_score\\nfrom sklearn.preprocessing import StandardScaler\\n\\n# Load the Boston housing dataset\\nboston = load_boston()\\nX = boston.data  # Features\\ny = boston.target  # Target variable\\n\\n# Split the data into training and test sets\\nX_train, X_test, y_train, y_test = train_test_split(X, y, test_size=0.2, random_state=42)\\n\\n# Standardize features by removing the mean and scaling to unit variance\\nscaler = StandardScaler()\\nX_train_scaled = scaler.fit_transform(X_train)\\nX_test_scaled = scaler.transform(X_test)\\n\\n# Initialize the KNN regressor with k=5 (you can adjust this value)\\nknn = KNeighborsRegressor(n_neighbors=5)\\n\\n# Fit the regressor to the training data\\nknn.fit(X_train_scaled, y_train)\\n\\n# Predict on the test data\\ny_pred = knn.predict(X_test_scaled)\\n\\n# Calculate metrics (MSE and R^2)\\nmse = mean_squared_error(y_test, y_pred)\\nr2 = r2_score(y_test, y_pred)\\nprint(f'Mean Squared Error: {mse:.2f}')\\nprint(f'R^2 Score: {r2:.2f}')\\n\\n\\n\""
            ],
            "application/vnd.google.colaboratory.intrinsic+json": {
              "type": "string"
            }
          },
          "metadata": {},
          "execution_count": 3
        }
      ]
    },
    {
      "cell_type": "markdown",
      "source": [
        "# Q3. Write a Python code snippet to find the optimal value of K for the KNN classifier algorithm using cross-validation on load_iris dataset in sklearn.datasets."
      ],
      "metadata": {
        "id": "HwETJMYZwskW"
      }
    },
    {
      "cell_type": "code",
      "source": [
        "# Importing necessary libraries\n",
        "from sklearn.datasets import load_iris\n",
        "from sklearn.model_selection import train_test_split, cross_val_score\n",
        "from sklearn.neighbors import KNeighborsClassifier\n",
        "import numpy as np\n",
        "\n",
        "# Load the iris dataset\n",
        "iris = load_iris()\n",
        "X = iris.data  # Features\n",
        "y = iris.target  # Target variable\n",
        "\n",
        "# Split the data into training and test sets (not used directly in cross-validation)\n",
        "X_train, X_test, y_train, y_test = train_test_split(X, y, test_size=0.2, random_state=42)\n",
        "\n",
        "# Create a list to store cross-validation scores\n",
        "cv_scores = []\n",
        "\n",
        "# Perform 10-fold cross-validation for each value of K from 1 to 20\n",
        "for k in range(1, 21):\n",
        "    knn = KNeighborsClassifier(n_neighbors=k)\n",
        "    scores = cross_val_score(knn, X, y, cv=10, scoring='accuracy')\n",
        "    cv_scores.append(scores.mean())\n",
        "\n",
        "# Find the optimal K based on cross-validation scores\n",
        "optimal_k = np.argmax(cv_scores) + 1  # +1 because K starts from 1\n",
        "\n",
        "print(f'Optimal K: {optimal_k}')\n",
        "\n",
        "# Plotting the cross-validation scores for each K\n",
        "import matplotlib.pyplot as plt\n",
        "\n",
        "plt.figure(figsize=(10, 6))\n",
        "plt.plot(range(1, 21), cv_scores, marker='o', linestyle='--', color='b')\n",
        "plt.xlabel('Number of Neighbors (K)')\n",
        "plt.ylabel('Cross-Validation Accuracy')\n",
        "plt.title('KNN Classifier Cross-Validation Scores')\n",
        "plt.grid(True)\n",
        "plt.show()\n"
      ],
      "metadata": {
        "colab": {
          "base_uri": "https://localhost:8080/",
          "height": 581
        },
        "id": "85t2m6AHwwU3",
        "outputId": "9dc08535-c256-40c3-963f-bd4f91d92677"
      },
      "execution_count": 4,
      "outputs": [
        {
          "output_type": "stream",
          "name": "stdout",
          "text": [
            "Optimal K: 13\n"
          ]
        },
        {
          "output_type": "display_data",
          "data": {
            "text/plain": [
              "<Figure size 1000x600 with 1 Axes>"
            ],
            "image/png": "[encoded data removed]"
          },
          "metadata": {}
        }
      ]
    },
    {
      "cell_type": "markdown",
      "source": [
        "#Q4. Implement the KNN regressor algorithm with feature scaling on load_boston dataset in sklearn.datasets."
      ],
      "metadata": {
        "id": "AobdGnsSwwfd"
      }
    },
    {
      "cell_type": "code",
      "source": [
        "\n",
        "\"\"\"\n",
        "# Importing necessary libraries\n",
        "from sklearn.datasets import load_boston\n",
        "from sklearn.model_selection import train_test_split\n",
        "from sklearn.neighbors import KNeighborsRegressor\n",
        "from sklearn.metrics import mean_squared_error, r2_score\n",
        "from sklearn.preprocessing import StandardScaler\n",
        "\n",
        "# Load the Boston housing dataset\n",
        "boston = load_boston()\n",
        "X = boston.data  # Features\n",
        "y = boston.target  # Target variable\n",
        "\n",
        "# Split the data into training and test sets\n",
        "X_train, X_test, y_train, y_test = train_test_split(X, y, test_size=0.2, random_state=42)\n",
        "\n",
        "# Standardize features by removing the mean and scaling to unit variance\n",
        "scaler = StandardScaler()\n",
        "X_train_scaled = scaler.fit_transform(X_train)\n",
        "X_test_scaled = scaler.transform(X_test)\n",
        "\n",
        "# Initialize the KNN regressor with k=5 (you can adjust this value)\n",
        "knn = KNeighborsRegressor(n_neighbors=5)\n",
        "\n",
        "# Fit the regressor to the training data\n",
        "knn.fit(X_train_scaled, y_train)\n",
        "\n",
        "# Predict on the test data\n",
        "y_pred = knn.predict(X_test_scaled)\n",
        "\n",
        "# Calculate metrics (MSE and R^2)\n",
        "mse = mean_squared_error(y_test, y_pred)\n",
        "r2 = r2_score(y_test, y_pred)\n",
        "print(f'Mean Squared Error: {mse:.2f}')\n",
        "print(f'R^2 Score: {r2:.2f}')\n",
        "\n",
        "\"\"\"\n",
        "\n"
      ],
      "metadata": {
        "colab": {
          "base_uri": "https://localhost:8080/",
          "height": 87
        },
        "id": "sSer4Ugrwy0d",
        "outputId": "c27b4f69-8d58-4c1e-af47-82b9c758a141"
      },
      "execution_count": 6,
      "outputs": [
        {
          "output_type": "execute_result",
          "data": {
            "text/plain": [
              "\"\\n# Importing necessary libraries\\nfrom sklearn.datasets import load_boston\\nfrom sklearn.model_selection import train_test_split\\nfrom sklearn.neighbors import KNeighborsRegressor\\nfrom sklearn.metrics import mean_squared_error, r2_score\\nfrom sklearn.preprocessing import StandardScaler\\n\\n# Load the Boston housing dataset\\nboston = load_boston()\\nX = boston.data  # Features\\ny = boston.target  # Target variable\\n\\n# Split the data into training and test sets\\nX_train, X_test, y_train, y_test = train_test_split(X, y, test_size=0.2, random_state=42)\\n\\n# Standardize features by removing the mean and scaling to unit variance\\nscaler = StandardScaler()\\nX_train_scaled = scaler.fit_transform(X_train)\\nX_test_scaled = scaler.transform(X_test)\\n\\n# Initialize the KNN regressor with k=5 (you can adjust this value)\\nknn = KNeighborsRegressor(n_neighbors=5)\\n\\n# Fit the regressor to the training data\\nknn.fit(X_train_scaled, y_train)\\n\\n# Predict on the test data\\ny_pred = knn.predict(X_test_scaled)\\n\\n# Calculate metrics (MSE and R^2)\\nmse = mean_squared_error(y_test, y_pred)\\nr2 = r2_score(y_test, y_pred)\\nprint(f'Mean Squared Error: {mse:.2f}')\\nprint(f'R^2 Score: {r2:.2f}')\\n\\n\""
            ],
            "application/vnd.google.colaboratory.intrinsic+json": {
              "type": "string"
            }
          },
          "metadata": {},
          "execution_count": 6
        }
      ]
    },
    {
      "cell_type": "markdown",
      "source": [
        "#Q5. Write a Python code snippet to implement the KNN classifier algorithm with weighted voting on load_iris dataset in sklearn.datasets."
      ],
      "metadata": {
        "id": "_uqmKrzGwy-V"
      }
    },
    {
      "cell_type": "code",
      "source": [
        "# Importing necessary libraries\n",
        "from sklearn.datasets import load_iris\n",
        "from sklearn.model_selection import train_test_split\n",
        "from sklearn.neighbors import KNeighborsClassifier\n",
        "from sklearn.metrics import accuracy_score\n",
        "import numpy as np\n",
        "\n",
        "# Load the iris dataset\n",
        "iris = load_iris()\n",
        "X = iris.data  # Features\n",
        "y = iris.target  # Target variable\n",
        "\n",
        "# Split the data into training and test sets\n",
        "X_train, X_test, y_train, y_test = train_test_split(X, y, test_size=0.2, random_state=42)\n",
        "\n",
        "# Initialize the KNN classifier with weighted voting and k=5 (you can adjust this value)\n",
        "knn = KNeighborsClassifier(n_neighbors=5, weights='distance')\n",
        "\n",
        "# Fit the classifier to the training data\n",
        "knn.fit(X_train, y_train)\n",
        "\n",
        "# Predict on the test data\n",
        "y_pred = knn.predict(X_test)\n",
        "\n",
        "# Calculate accuracy\n",
        "accuracy = accuracy_score(y_test, y_pred)\n",
        "print(f'Accuracy: {accuracy:.2f}')\n"
      ],
      "metadata": {
        "colab": {
          "base_uri": "https://localhost:8080/"
        },
        "id": "lBSdby8nw1dO",
        "outputId": "34640cad-c5f7-43cd-a758-a04e8dc1921b"
      },
      "execution_count": 7,
      "outputs": [
        {
          "output_type": "stream",
          "name": "stdout",
          "text": [
            "Accuracy: 1.00\n"
          ]
        }
      ]
    },
    {
      "cell_type": "markdown",
      "source": [
        "#Q6. Implement a function to standardise the features before applying KNN classifier."
      ],
      "metadata": {
        "id": "NrKvki46w1oe"
      }
    },
    {
      "cell_type": "code",
      "source": [
        "# Importing necessary libraries\n",
        "from sklearn.datasets import load_iris\n",
        "from sklearn.model_selection import train_test_split\n",
        "from sklearn.neighbors import KNeighborsClassifier\n",
        "from sklearn.metrics import accuracy_score\n",
        "from sklearn.preprocessing import StandardScaler\n",
        "\n",
        "def preprocess_and_train_knn(X, y, test_size=0.2, random_state=None, n_neighbors=5):\n",
        "\n",
        "    # Split the data into training and test sets\n",
        "    X_train, X_test, y_train, y_test = train_test_split(X, y, test_size=test_size, random_state=random_state)\n",
        "\n",
        "    # Standardize features by removing the mean and scaling to unit variance\n",
        "    scaler = StandardScaler()\n",
        "    X_train_scaled = scaler.fit_transform(X_train)\n",
        "    X_test_scaled = scaler.transform(X_test)\n",
        "\n",
        "    # Initialize the KNN classifier\n",
        "    knn = KNeighborsClassifier(n_neighbors=n_neighbors)\n",
        "\n",
        "    # Fit the classifier to the standardized training data\n",
        "    knn.fit(X_train_scaled, y_train)\n",
        "\n",
        "    # Predict on the standardized test data\n",
        "    y_pred = knn.predict(X_test_scaled)\n",
        "\n",
        "    # Calculate accuracy\n",
        "    accuracy = accuracy_score(y_test, y_pred)\n",
        "    print(f'Accuracy: {accuracy:.2f}')\n",
        "\n",
        "    return knn, accuracy\n",
        "\n",
        "# Load the iris dataset\n",
        "iris = load_iris()\n",
        "X = iris.data  # Features\n",
        "y = iris.target  # Target variable\n",
        "\n",
        "# Call the function to preprocess and train KNN classifier\n",
        "knn_classifier, accuracy = preprocess_and_train_knn(X, y, test_size=0.2, random_state=42, n_neighbors=5)\n",
        "\n",
        "\n"
      ],
      "metadata": {
        "colab": {
          "base_uri": "https://localhost:8080/"
        },
        "id": "rdcr2o8yw3kP",
        "outputId": "30b7bf99-100f-4f0f-83d5-d91dad03001d"
      },
      "execution_count": 9,
      "outputs": [
        {
          "output_type": "stream",
          "name": "stdout",
          "text": [
            "Accuracy: 1.00\n"
          ]
        }
      ]
    },
    {
      "cell_type": "markdown",
      "source": [
        "#Q7. Write a Python function to calculate the euclidean distance between two points."
      ],
      "metadata": {
        "id": "5lHjpBKuw3sG"
      }
    },
    {
      "cell_type": "code",
      "source": [
        "import numpy as np\n",
        "\n",
        "def euclidean_distance(point1, point2):\n",
        "\n",
        "    point1 = np.array(point1)  # Convert to numpy array\n",
        "    point2 = np.array(point2)  # Convert to numpy array\n",
        "\n",
        "    # Calculate Euclidean distance\n",
        "    distance = np.sqrt(np.sum((point1 - point2)**2))\n",
        "\n",
        "    return distance\n",
        "\n",
        "distance = euclidean_distance([1,2],[3,4])\n",
        "print(distance)\n"
      ],
      "metadata": {
        "colab": {
          "base_uri": "https://localhost:8080/"
        },
        "id": "0AtSmYFvw5Ym",
        "outputId": "258be4d6-528a-480f-a5b8-2ac857a226fd"
      },
      "execution_count": 12,
      "outputs": [
        {
          "output_type": "stream",
          "name": "stdout",
          "text": [
            "2.8284271247461903\n"
          ]
        }
      ]
    },
    {
      "cell_type": "markdown",
      "source": [
        "#Q8. Write a Python function to calculate the manhattan distance between two points."
      ],
      "metadata": {
        "id": "oyJ46WR6w5fX"
      }
    },
    {
      "cell_type": "code",
      "source": [
        "def manhattan_distance(x1, y1, x2, y2):\n",
        "    return abs(x2 - x1) + abs(y2 - y1)\n",
        "# Example usage:\n",
        "distance = manhattan_distance(1, 2, 4, 6)\n",
        "print(\"Manhattan distance:\", distance)  # Output: Manhattan distance: 7\n"
      ],
      "metadata": {
        "colab": {
          "base_uri": "https://localhost:8080/"
        },
        "id": "zW1IMF47w75O",
        "outputId": "4e337e01-38f7-4454-9c11-35e74e55a04a"
      },
      "execution_count": 11,
      "outputs": [
        {
          "output_type": "stream",
          "name": "stdout",
          "text": [
            "Manhattan distance: 7\n"
          ]
        }
      ]
    }
  ]
}