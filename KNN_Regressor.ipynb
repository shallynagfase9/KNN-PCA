{
  "nbformat": 4,
  "nbformat_minor": 0,
  "metadata": {
    "colab": {
      "provenance": [],
      "authorship_tag": "ABX9TyNH/6FYrzUB6A5H+4BqcPC6",
      "include_colab_link": true
    },
    "kernelspec": {
      "name": "python3",
      "display_name": "Python 3"
    },
    "language_info": {
      "name": "python"
    }
  },
  "cells": [
    {
      "cell_type": "markdown",
      "metadata": {
        "id": "view-in-github",
        "colab_type": "text"
      },
      "source": [
        "<a href=\"https://colab.research.google.com/github/shallynagfase9/KNN-PCA/blob/main/KNN_Regressor.ipynb\" target=\"_parent\"><img src=\"https://colab.research.google.com/assets/colab-badge.svg\" alt=\"Open In Colab\"/></a>"
      ]
    },
    {
      "cell_type": "code",
      "execution_count": 1,
      "metadata": {
        "id": "c2zFuSL0ilJb"
      },
      "outputs": [],
      "source": [
        "import numpy as np\n",
        "import pandas as pd\n",
        "import matplotlib.pyplot as plt\n",
        "import seaborn as sns\n",
        "%matplotlib inline"
      ]
    },
    {
      "cell_type": "code",
      "source": [
        "from sklearn.datasets import make_regression\n",
        "X, y = make_regression(n_samples=1000, n_features=2, noise=10, random_state=42)"
      ],
      "metadata": {
        "id": "igStanUMi3Yd"
      },
      "execution_count": 2,
      "outputs": []
    },
    {
      "cell_type": "code",
      "source": [
        "from sklearn.model_selection import train_test_split\n",
        "X_train, X_test, y_train, y_test = train_test_split(X, y, test_size=0.33, random_state=42)"
      ],
      "metadata": {
        "id": "hJQUyZQwi4Ra"
      },
      "execution_count": 3,
      "outputs": []
    },
    {
      "cell_type": "code",
      "source": [
        "from sklearn.neighbors import KNeighborsRegressor"
      ],
      "metadata": {
        "id": "l55_KfEki7qp"
      },
      "execution_count": 4,
      "outputs": []
    },
    {
      "cell_type": "code",
      "source": [
        "regressor=KNeighborsRegressor(n_neighbors=6,algorithm='auto')\n",
        "regressor.fit(X_train,y_train)"
      ],
      "metadata": {
        "colab": {
          "base_uri": "https://localhost:8080/",
          "height": 75
        },
        "id": "bKgXKA3zi9sC",
        "outputId": "dec6d1dd-4d76-4757-9cf4-79a96c248b66"
      },
      "execution_count": 5,
      "outputs": [
        {
          "output_type": "execute_result",
          "data": {
            "text/plain": [
              "KNeighborsRegressor(n_neighbors=6)"
            ],
            "text/html": [
              "<style>#sk-container-id-1 {color: black;background-color: white;}#sk-container-id-1 pre{padding: 0;}#sk-container-id-1 div.sk-toggleable {background-color: white;}#sk-container-id-1 label.sk-toggleable__label {cursor: pointer;display: block;width: 100%;margin-bottom: 0;padding: 0.3em;box-sizing: border-box;text-align: center;}#sk-container-id-1 label.sk-toggleable__label-arrow:before {content: \"▸\";float: left;margin-right: 0.25em;color: #696969;}#sk-container-id-1 label.sk-toggleable__label-arrow:hover:before {color: black;}#sk-container-id-1 div.sk-estimator:hover label.sk-toggleable__label-arrow:before {color: black;}#sk-container-id-1 div.sk-toggleable__content {max-height: 0;max-width: 0;overflow: hidden;text-align: left;background-color: #f0f8ff;}#sk-container-id-1 div.sk-toggleable__content pre {margin: 0.2em;color: black;border-radius: 0.25em;background-color: #f0f8ff;}#sk-container-id-1 input.sk-toggleable__control:checked~div.sk-toggleable__content {max-height: 200px;max-width: 100%;overflow: auto;}#sk-container-id-1 input.sk-toggleable__control:checked~label.sk-toggleable__label-arrow:before {content: \"▾\";}#sk-container-id-1 div.sk-estimator input.sk-toggleable__control:checked~label.sk-toggleable__label {background-color: #d4ebff;}#sk-container-id-1 div.sk-label input.sk-toggleable__control:checked~label.sk-toggleable__label {background-color: #d4ebff;}#sk-container-id-1 input.sk-hidden--visually {border: 0;clip: rect(1px 1px 1px 1px);clip: rect(1px, 1px, 1px, 1px);height: 1px;margin: -1px;overflow: hidden;padding: 0;position: absolute;width: 1px;}#sk-container-id-1 div.sk-estimator {font-family: monospace;background-color: #f0f8ff;border: 1px dotted black;border-radius: 0.25em;box-sizing: border-box;margin-bottom: 0.5em;}#sk-container-id-1 div.sk-estimator:hover {background-color: #d4ebff;}#sk-container-id-1 div.sk-parallel-item::after {content: \"\";width: 100%;border-bottom: 1px solid gray;flex-grow: 1;}#sk-container-id-1 div.sk-label:hover label.sk-toggleable__label {background-color: #d4ebff;}#sk-container-id-1 div.sk-serial::before {content: \"\";position: absolute;border-left: 1px solid gray;box-sizing: border-box;top: 0;bottom: 0;left: 50%;z-index: 0;}#sk-container-id-1 div.sk-serial {display: flex;flex-direction: column;align-items: center;background-color: white;padding-right: 0.2em;padding-left: 0.2em;position: relative;}#sk-container-id-1 div.sk-item {position: relative;z-index: 1;}#sk-container-id-1 div.sk-parallel {display: flex;align-items: stretch;justify-content: center;background-color: white;position: relative;}#sk-container-id-1 div.sk-item::before, #sk-container-id-1 div.sk-parallel-item::before {content: \"\";position: absolute;border-left: 1px solid gray;box-sizing: border-box;top: 0;bottom: 0;left: 50%;z-index: -1;}#sk-container-id-1 div.sk-parallel-item {display: flex;flex-direction: column;z-index: 1;position: relative;background-color: white;}#sk-container-id-1 div.sk-parallel-item:first-child::after {align-self: flex-end;width: 50%;}#sk-container-id-1 div.sk-parallel-item:last-child::after {align-self: flex-start;width: 50%;}#sk-container-id-1 div.sk-parallel-item:only-child::after {width: 0;}#sk-container-id-1 div.sk-dashed-wrapped {border: 1px dashed gray;margin: 0 0.4em 0.5em 0.4em;box-sizing: border-box;padding-bottom: 0.4em;background-color: white;}#sk-container-id-1 div.sk-label label {font-family: monospace;font-weight: bold;display: inline-block;line-height: 1.2em;}#sk-container-id-1 div.sk-label-container {text-align: center;}#sk-container-id-1 div.sk-container {/* jupyter's `normalize.less` sets `[hidden] { display: none; }` but bootstrap.min.css set `[hidden] { display: none !important; }` so we also need the `!important` here to be able to override the default hidden behavior on the sphinx rendered scikit-learn.org. See: https://github.com/scikit-learn/scikit-learn/issues/21755 */display: inline-block !important;position: relative;}#sk-container-id-1 div.sk-text-repr-fallback {display: none;}</style><div id=\"sk-container-id-1\" class=\"sk-top-container\"><div class=\"sk-text-repr-fallback\"><pre>KNeighborsRegressor(n_neighbors=6)</pre><b>In a Jupyter environment, please rerun this cell to show the HTML representation or trust the notebook. <br />On GitHub, the HTML representation is unable to render, please try loading this page with nbviewer.org.</b></div><div class=\"sk-container\" hidden><div class=\"sk-item\"><div class=\"sk-estimator sk-toggleable\"><input class=\"sk-toggleable__control sk-hidden--visually\" id=\"sk-estimator-id-1\" type=\"checkbox\" checked><label for=\"sk-estimator-id-1\" class=\"sk-toggleable__label sk-toggleable__label-arrow\">KNeighborsRegressor</label><div class=\"sk-toggleable__content\"><pre>KNeighborsRegressor(n_neighbors=6)</pre></div></div></div></div></div>"
            ]
          },
          "metadata": {},
          "execution_count": 5
        }
      ]
    },
    {
      "cell_type": "code",
      "source": [
        "y_pred=regressor.predict(X_test)"
      ],
      "metadata": {
        "id": "EyhxQ6nji_TC"
      },
      "execution_count": 6,
      "outputs": []
    },
    {
      "cell_type": "code",
      "source": [
        "y_pred"
      ],
      "metadata": {
        "colab": {
          "base_uri": "https://localhost:8080/"
        },
        "id": "AjMQlAQki_Vg",
        "outputId": "0ce04df1-a2b7-448c-c830-fc1fb49649d9"
      },
      "execution_count": 7,
      "outputs": [
        {
          "output_type": "execute_result",
          "data": {
            "text/plain": [
              "array([ 44.28436588,  -8.83610851, -18.33906448, -13.36468289,\n",
              "        36.4901953 ,  15.59754172,  62.47359613, -30.6064089 ,\n",
              "       -69.62828115, -10.37525416,  21.80810748,  -6.38215514,\n",
              "       -69.82924403,  58.86216428,  14.91021342,   1.81128438,\n",
              "       -58.89280399,  23.40509015, -23.98759248,  26.42054164,\n",
              "        20.79753432,  14.87340636, -23.39345711, -42.50851757,\n",
              "       -43.40835337,  23.13574661, -57.12971023,  57.41364484,\n",
              "       -18.90795489,  78.268256  , -76.76262901,  26.79530007,\n",
              "       -55.89232411,  -6.77954881, -50.48642122,  -5.7568218 ,\n",
              "        19.08611482,  33.72772173,  13.0168595 , -47.24565041,\n",
              "        81.93720521,  29.84752288,  39.13279368, -70.67275387,\n",
              "        19.13441662,  24.14349076, -31.86088325,  -8.79922574,\n",
              "        62.64114459,  65.54226395,  59.37221042,  75.39213118,\n",
              "       -59.7684246 , -30.04634947, -47.24565041, -24.36754183,\n",
              "       -33.29603737,  33.50360127,  90.10067475,  33.82278541,\n",
              "        37.59356966,   2.09414764, -23.96311167,  -3.29519628,\n",
              "        -8.02945657, -18.33906448,   4.15920175,  22.83676701,\n",
              "       -14.15067506, -57.12971023,  40.66439847,  82.38542471,\n",
              "        59.11937125,   2.56693742,  66.73308164, -31.99483408,\n",
              "       -13.09889685, -42.3989075 , -14.57211343, -50.40543437,\n",
              "       -14.03887563,  42.65602637,   9.01718141,  39.63063255,\n",
              "        37.78110718,   7.87891054,  14.51648362,   8.01763021,\n",
              "        34.65588861,  42.83994881, -41.42157004,  16.02220942,\n",
              "        16.07093597,  18.30555037,   5.95657863, -64.69143291,\n",
              "       -13.95860899,  12.38256587,  -3.11282585,   2.71199062,\n",
              "        59.65148983,  61.73772639,   3.7562942 , -49.0841476 ,\n",
              "        -7.32373612, -33.39676008, -19.88833952,   6.22141087,\n",
              "        20.82597477,   0.31683293,  27.67263601,  -2.17006543,\n",
              "       -40.5615105 , -15.44036871,  20.97261451,  58.17981253,\n",
              "       -11.33173618,  -8.47322951,  24.81846387,   6.39037543,\n",
              "        32.62369396,  37.37191779,  12.62575182,  -6.32926523,\n",
              "       -52.43507324,  14.37181596,  34.49969822, -42.50851757,\n",
              "       -28.52773086,  29.70198801, -44.67973895,   9.31134471,\n",
              "        -2.61145079, -36.14745915, -10.88054048,  15.46287021,\n",
              "        24.14349076,  15.30411514, -35.46473846, -16.18255964,\n",
              "        -3.44617467, -15.49695051, -19.4359055 , -15.89006417,\n",
              "         6.17001448,  40.22626503,  18.83545219, -20.76322785,\n",
              "       -37.74392425, -40.80332502,  72.39718878,  26.26167069,\n",
              "       -48.83748836, -21.95539579, -14.35360646, -37.64447032,\n",
              "        11.98344197,  34.15918523,  15.46287021,  70.01566796,\n",
              "        -1.89168238,  83.23553491, -17.26970232,  -3.29519628,\n",
              "       -74.7545553 , -44.4662866 ,  81.93720521, -30.18155652,\n",
              "        16.14259155,  71.78462922,  49.05848452, -69.06000474,\n",
              "        49.57360922,  65.32809796,  31.17851621, -33.11808371,\n",
              "       -32.44368762, -50.5064418 ,  -9.54612424,   7.74207302,\n",
              "        -8.79922574,  85.41691461,  21.45661817, -36.02707156,\n",
              "        81.93720521,  24.81160976,   5.71363164, -30.33009798,\n",
              "        24.81160976, -21.6356836 , -13.87493537,  -6.52804512,\n",
              "       -17.55869601,  -1.43065716,  39.24245878, -68.39592644,\n",
              "         3.53515397, -69.82924403,  -1.40811206,   5.49464858,\n",
              "        -6.06013438,  36.9755148 ,  34.76918317, -53.38646928,\n",
              "        -7.29580563,   5.7518904 ,   6.14317794, -19.63569857,\n",
              "        27.67263601, -44.58707861,   1.73833183, -50.95695973,\n",
              "       -44.00432215,  24.16848343, -18.46235336,   6.75820664,\n",
              "        19.6292273 ,  11.47565608,  24.32593179, -17.71593192,\n",
              "        18.93503604,  41.23773859,   4.00439897,  16.99164234,\n",
              "       -57.73035456,  12.94048497, -16.18255964, -25.33438963,\n",
              "        13.68274209,  28.63833315, -42.07570231,  -3.02337303,\n",
              "        39.29894034,  -5.11031917,  26.49049446,  -6.10821382,\n",
              "        71.96789456, -38.27060211,  36.93628243, -37.03000747,\n",
              "        20.97261451, -36.51597611, -12.56101623, -57.73035456,\n",
              "         8.46982931,  39.75036734, -15.15116775,  36.34654288,\n",
              "        71.74562609,  24.14349076,  61.45174334,  75.20456411,\n",
              "        70.63809827,  58.09692402,   2.27604501, -73.78512491,\n",
              "        -3.11282585,  -3.50626691, -18.90795489, -40.98326236,\n",
              "       -27.81495893,  75.63870975,  56.04922185,  42.18111346,\n",
              "        -5.57133359,  28.21147844,  13.3374622 ,  73.71475141,\n",
              "        -4.38925353,  14.66573376,  -4.58416192, -56.63637022,\n",
              "       -13.82063509,   7.95618657, -31.15144163, -54.93807017,\n",
              "       -49.31070447, -48.98111957,  -8.77906991,  15.30411514,\n",
              "        13.46463058,  -1.18961774,   4.28922829, -56.63637022,\n",
              "        12.34161609, -32.40487118,   1.54261446,  -3.70446633,\n",
              "        32.17958642, -34.99976887, -56.97198386,  41.827381  ,\n",
              "       -10.25219426, -47.29599792, -32.06206165,  -3.64167845,\n",
              "       -15.49695051,  81.27448655, -64.75399063,  61.45174334,\n",
              "       -26.82049405, -11.48055558,  44.35221921, -22.78238024,\n",
              "        69.95206534,  -8.38021164,  48.66725734,  18.33731701,\n",
              "        34.63187313,  10.84158272,  18.93503604,  13.05955981,\n",
              "        18.30555037,   2.96510629,  -1.39146861,  13.80252353,\n",
              "         7.51397252,   6.75576463,  43.77001271, -20.72845609,\n",
              "        17.7931459 ,   6.95576212, -24.51746615,  39.08787297,\n",
              "        44.44927052, -24.42022853,  -6.1104767 , -51.49134867,\n",
              "        -1.7013227 , -68.39592644])"
            ]
          },
          "metadata": {},
          "execution_count": 7
        }
      ]
    },
    {
      "cell_type": "code",
      "source": [
        "from sklearn.metrics import r2_score,mean_absolute_error,mean_squared_error"
      ],
      "metadata": {
        "id": "5nn8iwCFi_YI"
      },
      "execution_count": 8,
      "outputs": []
    },
    {
      "cell_type": "code",
      "source": [
        "print(r2_score(y_test,y_pred))\n",
        "print(mean_absolute_error(y_test,y_pred))\n",
        "print(mean_squared_error(y_test,y_pred))"
      ],
      "metadata": {
        "colab": {
          "base_uri": "https://localhost:8080/"
        },
        "id": "BXjDRNQui_ax",
        "outputId": "5d37db8c-b848-4391-976c-d01d9da4ccfe"
      },
      "execution_count": 9,
      "outputs": [
        {
          "output_type": "stream",
          "name": "stdout",
          "text": [
            "0.9189275159979495\n",
            "9.009462452972217\n",
            "127.45860414317289\n"
          ]
        }
      ]
    }
  ]
}